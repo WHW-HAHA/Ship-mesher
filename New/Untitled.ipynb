{
 "cells": [
  {
   "cell_type": "markdown",
   "metadata": {},
   "source": [
    "## preprocess the linespline data"
   ]
  },
  {
   "cell_type": "code",
   "execution_count": 4,
   "metadata": {
    "collapsed": false
   },
   "outputs": [],
   "source": [
    "## import support libraries\n",
    "import pandas as pd\n",
    "import re\n",
    "import os\n",
    "import unittest"
   ]
  },
  {
   "cell_type": "code",
   "execution_count": 22,
   "metadata": {
    "collapsed": false
   },
   "outputs": [
    {
     "name": "stdout",
     "output_type": "stream",
     "text": [
      "['VERSLUIS.004:', 'Container', 'Ship,', '250.00', 'x', '32.00', 'x', '9.10', '(11.00)', 'meter.', '', '', '', '', '', '', '', '', '', '', '', '', '', '']\n",
      "VERSLUIS.004\n",
      "EShip,\n",
      "11.0\n",
      "250\n"
     ]
    }
   ],
   "source": [
    "## get the original dimensions of the vessel\n",
    "\n",
    "file_path = r'C:\\Users\\907932\\Desktop\\Software\\Diffrac_related\\Diffrac database\\001_linesplan database\\Original linesplan database Journee Versluis\\Versluis.004'\n",
    "with open(file_path) as linesplan_info:\n",
    "    info = linesplan_info.read().split('\\n')[1]\n",
    "    info_pro = info.split(' ')\n",
    "    print(info_pro1)\n",
    "    vessel_name = info_pro[0][:-1]\n",
    "    try:\n",
    "        float(info_pro1[2])\n",
    "        vessel_type = info_pro[1]\n",
    "        vesselLoA = float(info_pro[2])\n",
    "        vesselBeam = float(info_pro[4])\n",
    "        vesselDraft = float(info_pro[6])\n",
    "        vesselDepth = float(info_pro[7][1:-1])\n",
    "    except:\n",
    "        vessel_type = info[1] + info_pro[2]\n",
    "        vesselLoA = float(info_pro[3])\n",
    "        vesselBeam = float(info_pro[5])\n",
    "        vesselDraft = float(info_pro[7])\n",
    "        vesselDepth = float(info_pro[8][1:-1])\n",
    "    num_cross_sections_pattern = re.compile(r'\\d+')\n",
    "    num_cross_sections_int = int(num_cross_sections_pattern.search(info_pro[3]).group(0))\n",
    "    \n",
    "    print(vessel_name)\n",
    "    print(vessel_type)\n",
    "    print(vesselDepth)\n",
    "    print(num_cross_sections)\n",
    "        \n",
    "    linesplan_info.close()"
   ]
  },
  {
   "cell_type": "code",
   "execution_count": 11,
   "metadata": {
    "collapsed": false
   },
   "outputs": [
    {
     "data": {
      "text/plain": [
       "'VERSLUIS.004'"
      ]
     },
     "execution_count": 11,
     "metadata": {},
     "output_type": "execute_result"
    }
   ],
   "source": [
    "## get the coordinates of the scatters \n",
    "\n"
   ]
  },
  {
   "cell_type": "code",
   "execution_count": null,
   "metadata": {
    "collapsed": true
   },
   "outputs": [],
   "source": []
  }
 ],
 "metadata": {
  "kernelspec": {
   "display_name": "Python 3",
   "language": "python",
   "name": "python3"
  },
  "language_info": {
   "codemirror_mode": {
    "name": "ipython",
    "version": 3
   },
   "file_extension": ".py",
   "mimetype": "text/x-python",
   "name": "python",
   "nbconvert_exporter": "python",
   "pygments_lexer": "ipython3",
   "version": "3.7.1"
  }
 },
 "nbformat": 4,
 "nbformat_minor": 2
}
