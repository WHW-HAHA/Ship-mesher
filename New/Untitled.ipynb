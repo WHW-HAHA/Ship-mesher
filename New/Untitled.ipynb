{
 "cells": [
  {
   "cell_type": "markdown",
   "metadata": {},
   "source": [
    "## preprocess the linespline data"
   ]
  },
  {
   "cell_type": "code",
   "execution_count": 1,
   "metadata": {
    "collapsed": false
   },
   "outputs": [],
   "source": [
    "## import support libraries\n",
    "import pandas as pd\n",
    "import re\n",
    "import os\n",
    "import unittest"
   ]
  },
  {
   "cell_type": "code",
   "execution_count": 13,
   "metadata": {
    "collapsed": false
   },
   "outputs": [
    {
     "name": "stdout",
     "output_type": "stream",
     "text": [
      "['VERSLUIS.003:', 'Bulkcarrier,', '187.00', 'x', '29.00', 'x', '10.95', '(13.00)', 'meter.', '', '', '', '', '', '', '', '', '', '', '', '', '', '', '', '']\n"
     ]
    }
   ],
   "source": [
    "## get the original dimensions of the vessel\n",
    "\n",
    "file_path = r'C:\\Users\\907932\\Desktop\\Software\\Diffrac_related\\Diffrac database\\001_linesplan database\\Original linesplan database Journee Versluis\\Versluis.003'\n",
    "with open(file_path) as linesplan_info:\n",
    "            raw_info = linesplan_info.read().split('\\n')\n",
    "            info = raw_info[1]\n",
    "            info_crossection = raw_info[3]\n",
    "            info_pro = info.split(' ')\n",
    "            print(info_pro)\n",
    "            vessel_name = info_pro[0][:-1]\n",
    "            \n",
    "            try:\n",
    "                float(info_pro[2])\n",
    "                vessel_type = info_pro[1]\n",
    "                vesselLoA = float(info_pro[2])\n",
    "                vesselBeam = float(info_pro[4])\n",
    "                vesselDraft = float(info_pro[6])\n",
    "                vesselDepth = float(info_pro[7][1:-1])\n",
    "            except:\n",
    "                vessel_type = info_pro[1] + info_pro[2]\n",
    "                vesselLoA = float(info_pro[3])\n",
    "                vesselBeam = float(info_pro[5])\n",
    "                vesselDraft = float(info_pro[7])\n",
    "                vesselDepth = float(info_pro[8][1:-1])\n",
    "            num_cross_sections_pattern = re.compile(r'\\d+')\n",
    "            num_cross_sections_int = int(num_cross_sections_pattern.search(info_crossection).group(0))\n",
    "\n",
    "            linesplan_info.close()\n",
    "\n"
   ]
  },
  {
   "cell_type": "code",
   "execution_count": 10,
   "metadata": {
    "collapsed": false
   },
   "outputs": [],
   "source": [
    "## get the coordinates of the scatters \n",
    "import numpy as np\n",
    "import tkinter as tk\n",
    "import linecache\n",
    "import math\n",
    "import re\n",
    "\n",
    "'''\n",
    "Hanwei Wangd RHDHV 7_2_2019\n",
    "'''\n",
    "\n",
    "class linesplan():\n",
    "    def __init__(self, linsplan_path):\n",
    "        self.L = None\n",
    "        self.B = None\n",
    "        self.T = None  # draft of the ship\n",
    "        self.D = None  # depth of the ship\n",
    "        self.name = None\n",
    "        self.type = None\n",
    "        self.coordinate = None\n",
    "        self.num_cross_section = None\n",
    "        self.fractions = None\n",
    "        self.scaling_flag = None\n",
    "        self.kxx = None\n",
    "        self.kyy = None\n",
    "        self.KG = None\n",
    "        self.displacement = None\n",
    "#         self.file_path = r'C:\\Users\\907932\\Desktop\\Software\\Diffrac_related\\Diffrac database\\001_linesplan database\\linesplans\\coaster_v08.linesplan'\n",
    "#         self.file_path = r'C:\\Users\\907932\\Desktop\\Software\\Diffrac_related\\Diffrac database\\001_linesplan database\\Original linesplan database Journee Versluis\\Versluis.004'\n",
    "        self.file_path = linsplan_path\n",
    "\n",
    "    def get_info(self):\n",
    "        # get the originald ship dimensions(L, B, T, D)\n",
    "        with open(self.file_path) as linesplan_info:\n",
    "            raw_info = linesplan_info.read().split('\\n')[1]\n",
    "            info = raw_info[1]\n",
    "            info_crossection = raw_info[3]\n",
    "            info_pro = info.split(' ')\n",
    "            print(info_pro)\n",
    "            vessel_name = info_pro[0][:-1]\n",
    "            \n",
    "            try:\n",
    "                float(info_pro[2])\n",
    "                vessel_type = info_pro[1]\n",
    "                vesselLoA = float(info_pro[2])\n",
    "                vesselBeam = float(info_pro[4])\n",
    "                vesselDraft = float(info_pro[6])\n",
    "                vesselDepth = float(info_pro[7][1:-1])\n",
    "            except:\n",
    "                vessel_type = info_pro[1] + info_pro[2]\n",
    "                vesselLoA = float(info_pro[3])\n",
    "                vesselBeam = float(info_pro[5])\n",
    "                vesselDraft = float(info_pro[7])\n",
    "                vesselDepth = float(info_pro[8][1:-1])\n",
    "            num_cross_sections_pattern = re.compile(r'\\d+')\n",
    "            num_cross_sections_int = int(num_cross_sections_pattern.search(info_crossection).group(0))\n",
    "\n",
    "            linesplan_info.close()\n",
    "            \n",
    "            self.L = vesselLoA\n",
    "            self.B = vesselBeam\n",
    "            self.T = vesselDraft\n",
    "            self.D = vesselDepth\n",
    "            self.name = vessel_name\n",
    "            self.type = vessel_type\n",
    "            self.num_cross_section = num_cross_sections_int\n",
    "        linesplan_info.close()\n",
    "\n",
    "    def get_fraction(self):\n",
    "\n",
    "        fractions = []\n",
    "        fraction_start = 4\n",
    "        fraction_end = 4 + 1 + math.ceil((self.num_cross_section + 1)/6)\n",
    "        for i in np.arange(fraction_start+1,fraction_end):\n",
    "            line = linecache.getline(self.file_path, i)\n",
    "            for fraction in line.strip('\\n').split(' '):\n",
    "                # print(fraction)\n",
    "                if fraction != '':\n",
    "                    fractions.append(float(fraction))\n",
    "        self.fractions = fractions\n",
    "\n",
    "\n",
    "    def get_coordinate(self):\n",
    "        '''\n",
    "\n",
    "        '''\n",
    "        # First find the origin of the ship\n",
    "        # X_0 is the stern of ship, y_0 is central line, z_0 is keel\n",
    "        fraction_sum = [0]\n",
    "        for i in range(1, len(self.fractions)+1):   # 千万注意啊\n",
    "            fraction_sum.append(sum(self.fractions[0: i]))\n",
    "\n",
    "        # print(' fraction: {}'.format(fraction_sum))\n",
    "        x_cors = np.array(fraction_sum) * self.L\n",
    "\n",
    "        with open(self.file_path, 'r') as plan:\n",
    "             content = plan.read().split('\\n')\n",
    "             Content = []\n",
    "             effective_content = content[4 + math.ceil((self.num_cross_section)/6) + 1: -3]\n",
    "             for items in effective_content:\n",
    "                 for item in items.split(' '):\n",
    "                     if item != '':\n",
    "                        Content.append(float(item))\n",
    "             count = 0\n",
    "             Coordinates = []\n",
    "\n",
    "             while Content:\n",
    "                 index = 1\n",
    "                 num_points_per_section = int(Content[index]) + 1\n",
    "                 y_cor = np.array(Content[index + 3: index + num_points_per_section*2 + 3 : 2]) * self.T\n",
    "                 y_cor = np.sort(y_cor)\n",
    "                 z_cor = np.array(Content[index + 2: index + num_points_per_section*2 + 2 : 2]) * self.B # !!!!!!!\n",
    "                 z_cor = np.sort(z_cor)\n",
    "                 # if count == 0:\n",
    "                 #     y_cor = np.insert( y_cor, 0, self.T)\n",
    "                 #     z_cor = np.insert(z_cor,0, 0)\n",
    "                 Content = Content[index + num_points_per_section*2 + 2: ] # 不是-1, 因为列表不会包含最后一个值\n",
    "                 # organize coordinate per section\n",
    "                 try:\n",
    "                     x_cor = np.ones(len(y_cor)) * x_cors[count]\n",
    "                     coordinates = list(zip(x_cor, y_cor, z_cor))\n",
    "                     Coordinates.append(coordinates)\n",
    "                     count += 1\n",
    "                 except:\n",
    "                     print('The ship model is wrong, you may lose the last cross-section!')\n",
    "\n",
    "             plan.close()\n",
    "             # Coordinates[0] = np.insert(Coordinates[0], 0, (0 , 0, self.T))\n",
    "             # Coordinates[-1] = np.append(Coordinates[-1], (self.L, 0, self.T))\n",
    "             # self.num_cross_section = self.num_cross_section\n",
    "             self.coordinate = Coordinates"
   ]
  },
  {
   "cell_type": "code",
   "execution_count": 11,
   "metadata": {
    "collapsed": false
   },
   "outputs": [
    {
     "name": "stdout",
     "output_type": "stream",
     "text": [
      "['E']\n"
     ]
    },
    {
     "ename": "IndexError",
     "evalue": "list index out of range",
     "output_type": "error",
     "traceback": [
      "\u001b[1;31m---------------------------------------------------------------------------\u001b[0m",
      "\u001b[1;31mIndexError\u001b[0m                                Traceback (most recent call last)",
      "\u001b[1;32m<ipython-input-10-967ae0bf1903>\u001b[0m in \u001b[0;36mget_info\u001b[1;34m(self)\u001b[0m\n\u001b[0;32m     42\u001b[0m             \u001b[1;32mtry\u001b[0m\u001b[1;33m:\u001b[0m\u001b[1;33m\u001b[0m\u001b[1;33m\u001b[0m\u001b[0m\n\u001b[1;32m---> 43\u001b[1;33m                 \u001b[0mfloat\u001b[0m\u001b[1;33m(\u001b[0m\u001b[0minfo_pro\u001b[0m\u001b[1;33m[\u001b[0m\u001b[1;36m2\u001b[0m\u001b[1;33m]\u001b[0m\u001b[1;33m)\u001b[0m\u001b[1;33m\u001b[0m\u001b[1;33m\u001b[0m\u001b[0m\n\u001b[0m\u001b[0;32m     44\u001b[0m                 \u001b[0mvessel_type\u001b[0m \u001b[1;33m=\u001b[0m \u001b[0minfo_pro\u001b[0m\u001b[1;33m[\u001b[0m\u001b[1;36m1\u001b[0m\u001b[1;33m]\u001b[0m\u001b[1;33m\u001b[0m\u001b[1;33m\u001b[0m\u001b[0m\n",
      "\u001b[1;31mIndexError\u001b[0m: list index out of range",
      "\nDuring handling of the above exception, another exception occurred:\n",
      "\u001b[1;31mIndexError\u001b[0m                                Traceback (most recent call last)",
      "\u001b[1;32m<ipython-input-11-eb5a252476e9>\u001b[0m in \u001b[0;36m<module>\u001b[1;34m()\u001b[0m\n\u001b[0;32m      1\u001b[0m \u001b[0mlinesplan_processor\u001b[0m \u001b[1;33m=\u001b[0m \u001b[0mlinesplan\u001b[0m\u001b[1;33m(\u001b[0m\u001b[0mlinsplan_path\u001b[0m\u001b[1;33m=\u001b[0m \u001b[0mfile_path\u001b[0m\u001b[1;33m)\u001b[0m\u001b[1;33m\u001b[0m\u001b[1;33m\u001b[0m\u001b[0m\n\u001b[1;32m----> 2\u001b[1;33m \u001b[0mlinesplan_processor\u001b[0m\u001b[1;33m.\u001b[0m\u001b[0mget_info\u001b[0m\u001b[1;33m(\u001b[0m\u001b[1;33m)\u001b[0m\u001b[1;33m\u001b[0m\u001b[1;33m\u001b[0m\u001b[0m\n\u001b[0m\u001b[0;32m      3\u001b[0m \u001b[0mlinesplan_processor\u001b[0m\u001b[1;33m.\u001b[0m\u001b[0mget_fraction\u001b[0m\u001b[1;33m(\u001b[0m\u001b[1;33m)\u001b[0m\u001b[1;33m\u001b[0m\u001b[1;33m\u001b[0m\u001b[0m\n\u001b[0;32m      4\u001b[0m \u001b[0mlinesplan_processor\u001b[0m\u001b[1;33m.\u001b[0m\u001b[0mget_coordinate\u001b[0m\u001b[1;33m(\u001b[0m\u001b[1;33m)\u001b[0m\u001b[1;33m\u001b[0m\u001b[1;33m\u001b[0m\u001b[0m\n",
      "\u001b[1;32m<ipython-input-10-967ae0bf1903>\u001b[0m in \u001b[0;36mget_info\u001b[1;34m(self)\u001b[0m\n\u001b[0;32m     48\u001b[0m                 \u001b[0mvesselDepth\u001b[0m \u001b[1;33m=\u001b[0m \u001b[0mfloat\u001b[0m\u001b[1;33m(\u001b[0m\u001b[0minfo_pro\u001b[0m\u001b[1;33m[\u001b[0m\u001b[1;36m7\u001b[0m\u001b[1;33m]\u001b[0m\u001b[1;33m[\u001b[0m\u001b[1;36m1\u001b[0m\u001b[1;33m:\u001b[0m\u001b[1;33m-\u001b[0m\u001b[1;36m1\u001b[0m\u001b[1;33m]\u001b[0m\u001b[1;33m)\u001b[0m\u001b[1;33m\u001b[0m\u001b[1;33m\u001b[0m\u001b[0m\n\u001b[0;32m     49\u001b[0m             \u001b[1;32mexcept\u001b[0m\u001b[1;33m:\u001b[0m\u001b[1;33m\u001b[0m\u001b[1;33m\u001b[0m\u001b[0m\n\u001b[1;32m---> 50\u001b[1;33m                 \u001b[0mvessel_type\u001b[0m \u001b[1;33m=\u001b[0m \u001b[0minfo_pro\u001b[0m\u001b[1;33m[\u001b[0m\u001b[1;36m1\u001b[0m\u001b[1;33m]\u001b[0m \u001b[1;33m+\u001b[0m \u001b[0minfo_pro\u001b[0m\u001b[1;33m[\u001b[0m\u001b[1;36m2\u001b[0m\u001b[1;33m]\u001b[0m\u001b[1;33m\u001b[0m\u001b[1;33m\u001b[0m\u001b[0m\n\u001b[0m\u001b[0;32m     51\u001b[0m                 \u001b[0mvesselLoA\u001b[0m \u001b[1;33m=\u001b[0m \u001b[0mfloat\u001b[0m\u001b[1;33m(\u001b[0m\u001b[0minfo_pro\u001b[0m\u001b[1;33m[\u001b[0m\u001b[1;36m3\u001b[0m\u001b[1;33m]\u001b[0m\u001b[1;33m)\u001b[0m\u001b[1;33m\u001b[0m\u001b[1;33m\u001b[0m\u001b[0m\n\u001b[0;32m     52\u001b[0m                 \u001b[0mvesselBeam\u001b[0m \u001b[1;33m=\u001b[0m \u001b[0mfloat\u001b[0m\u001b[1;33m(\u001b[0m\u001b[0minfo_pro\u001b[0m\u001b[1;33m[\u001b[0m\u001b[1;36m5\u001b[0m\u001b[1;33m]\u001b[0m\u001b[1;33m)\u001b[0m\u001b[1;33m\u001b[0m\u001b[1;33m\u001b[0m\u001b[0m\n",
      "\u001b[1;31mIndexError\u001b[0m: list index out of range"
     ]
    }
   ],
   "source": [
    "linesplan_processor = linesplan(linsplan_path= file_path)\n",
    "linesplan_processor.get_info()\n",
    "linesplan_processor.get_fraction()\n",
    "linesplan_processor.get_coordinate()"
   ]
  },
  {
   "cell_type": "code",
   "execution_count": null,
   "metadata": {
    "collapsed": false
   },
   "outputs": [],
   "source": [
    "len(linesplan_processor.fractions)"
   ]
  },
  {
   "cell_type": "code",
   "execution_count": null,
   "metadata": {
    "collapsed": false
   },
   "outputs": [],
   "source": [
    "linesplan_processor.coordinate\n"
   ]
  }
 ],
 "metadata": {
  "kernelspec": {
   "display_name": "Python 3",
   "language": "python",
   "name": "python3"
  },
  "language_info": {
   "codemirror_mode": {
    "name": "ipython",
    "version": 3
   },
   "file_extension": ".py",
   "mimetype": "text/x-python",
   "name": "python",
   "nbconvert_exporter": "python",
   "pygments_lexer": "ipython3",
   "version": "3.7.1"
  }
 },
 "nbformat": 4,
 "nbformat_minor": 2
}
